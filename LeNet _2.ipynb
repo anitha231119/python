{
 "cells": [
  {
   "cell_type": "markdown",
   "metadata": {},
   "source": [
    "# To build a model for LeNet Convolution neural network:"
   ]
  },
  {
   "cell_type": "code",
   "execution_count": 1,
   "metadata": {},
   "outputs": [],
   "source": [
    "import os\n",
    "import numpy as np # linear algebra\n",
    "import pandas as pd # data processing, CSV file I/O (e.g. pd.read_csv)\n",
    "import random\n",
    "import matplotlib.pyplot as plt"
   ]
  },
  {
   "cell_type": "code",
   "execution_count": 2,
   "metadata": {},
   "outputs": [],
   "source": [
    "# Dl framwork - tensorflow, keras a backend \n",
    "import tensorflow as tf\n",
    "import tensorflow.keras.backend as K\n",
    "from tensorflow.keras.models import Model, Sequential\n",
    "from tensorflow.keras.layers import Input, Dense, Flatten, Dropout, BatchNormalization \n",
    "from tensorflow.keras.layers import Conv2D, SeparableConv2D, MaxPool2D, LeakyReLU, Activation\n",
    "from tensorflow.keras.optimizers import Adam\n",
    "from tensorflow.keras.preprocessing.image import ImageDataGenerator\n",
    "from tensorflow.keras.callbacks import ModelCheckpoint, ReduceLROnPlateau, EarlyStopping\n",
    "from IPython.display import display\n",
    "from os import listdir\n",
    "from os.path import isfile, join\n",
    "from PIL import Image\n",
    "import glob\n",
    "from tensorflow.keras.preprocessing.image import ImageDataGenerator\n",
    "from tensorflow.keras.layers import Convolution2D\n",
    "from tensorflow.keras.layers import MaxPooling2D\n",
    "from tensorflow.keras.layers import Flatten\n",
    "from tensorflow.keras.layers import Dense"
   ]
  },
  {
   "cell_type": "code",
   "execution_count": 3,
   "metadata": {},
   "outputs": [],
   "source": [
    "import warnings\n",
    "warnings.filterwarnings('ignore')"
   ]
  },
  {
   "cell_type": "code",
   "execution_count": 4,
   "metadata": {},
   "outputs": [],
   "source": [
    "model = Sequential()\n",
    "#Layer 1\n",
    "\n",
    "\n"
   ]
  },
  {
   "cell_type": "code",
   "execution_count": 5,
   "metadata": {},
   "outputs": [],
   "source": [
    "#Conv Layer 1\n",
    "model.add(Conv2D(filters = 6, \n",
    "                 kernel_size = 5, \n",
    "                 strides = 1, \n",
    "                 activation = 'relu', \n",
    "                 input_shape = (225,225,3)))\n",
    "#Pooling layer 1\n",
    "model.add(MaxPooling2D(pool_size = 2, strides = 2))"
   ]
  },
  {
   "cell_type": "code",
   "execution_count": 6,
   "metadata": {},
   "outputs": [],
   "source": [
    "#Layer 2\n",
    "#Conv Layer 2\n",
    "model.add(Conv2D(filters = 16, \n",
    "                 kernel_size = 5,\n",
    "                 strides = 1,\n",
    "                 activation = 'relu',\n",
    "                 input_shape = (14,14,6)))\n",
    "#Pooling Layer 2\n",
    "model.add(MaxPooling2D(pool_size = 2, strides = 2))"
   ]
  },
  {
   "cell_type": "code",
   "execution_count": 7,
   "metadata": {},
   "outputs": [],
   "source": [
    "#Flatten\n",
    "model.add(Flatten())\n",
    "\n"
   ]
  },
  {
   "cell_type": "code",
   "execution_count": 8,
   "metadata": {},
   "outputs": [],
   "source": [
    "#Layer 3\n",
    "#Fully connected layer 1\n",
    "model.add(Dense(units = 32, activation = 'relu'))\n"
   ]
  },
  {
   "cell_type": "code",
   "execution_count": 9,
   "metadata": {},
   "outputs": [],
   "source": [
    "#Layer 4\n",
    "#Fully connected layer 2\n",
    "model.add(Dense(units = 16, activation = 'relu'))\n"
   ]
  },
  {
   "cell_type": "code",
   "execution_count": 10,
   "metadata": {},
   "outputs": [],
   "source": [
    "#Layer 5\n",
    "#Output Layer\n",
    "model.add(Dense(units = 3, activation = 'softmax'))\n"
   ]
  },
  {
   "cell_type": "code",
   "execution_count": 11,
   "metadata": {},
   "outputs": [],
   "source": [
    "model.compile(optimizer = 'adam', loss = 'categorical_crossentropy', metrics = ['accuracy','AUC','Precision','Recall','TruePositives','TrueNegatives','FalsePositives','FalseNegatives'])\n"
   ]
  },
  {
   "cell_type": "code",
   "execution_count": 12,
   "metadata": {},
   "outputs": [
    {
     "name": "stdout",
     "output_type": "stream",
     "text": [
      "Model: \"sequential\"\n",
      "_________________________________________________________________\n",
      "Layer (type)                 Output Shape              Param #   \n",
      "=================================================================\n",
      "conv2d (Conv2D)              (None, 221, 221, 6)       456       \n",
      "_________________________________________________________________\n",
      "max_pooling2d (MaxPooling2D) (None, 110, 110, 6)       0         \n",
      "_________________________________________________________________\n",
      "conv2d_1 (Conv2D)            (None, 106, 106, 16)      2416      \n",
      "_________________________________________________________________\n",
      "max_pooling2d_1 (MaxPooling2 (None, 53, 53, 16)        0         \n",
      "_________________________________________________________________\n",
      "flatten (Flatten)            (None, 44944)             0         \n",
      "_________________________________________________________________\n",
      "dense (Dense)                (None, 32)                1438240   \n",
      "_________________________________________________________________\n",
      "dense_1 (Dense)              (None, 16)                528       \n",
      "_________________________________________________________________\n",
      "dense_2 (Dense)              (None, 3)                 51        \n",
      "=================================================================\n",
      "Total params: 1,441,691\n",
      "Trainable params: 1,441,691\n",
      "Non-trainable params: 0\n",
      "_________________________________________________________________\n"
     ]
    }
   ],
   "source": [
    "model.summary()"
   ]
  },
  {
   "cell_type": "code",
   "execution_count": null,
   "metadata": {},
   "outputs": [],
   "source": []
  },
  {
   "cell_type": "code",
   "execution_count": 13,
   "metadata": {},
   "outputs": [],
   "source": [
    "train_datagen=ImageDataGenerator(rescale=1./255,shear_range=0.2,zoom_range=0.2,horizontal_flip=True)\n",
    "test_datagen=ImageDataGenerator(rescale=1./255)"
   ]
  },
  {
   "cell_type": "code",
   "execution_count": 14,
   "metadata": {},
   "outputs": [
    {
     "name": "stdout",
     "output_type": "stream",
     "text": [
      "Found 1448 images belonging to 3 classes.\n",
      "Found 1288 images belonging to 3 classes.\n"
     ]
    }
   ],
   "source": [
    "training_set=train_datagen.flow_from_directory('Data/train',target_size=(225,225),batch_size=32,class_mode='categorical')\n",
    "test_set=test_datagen.flow_from_directory('Data/test',target_size=(225,225),batch_size=32,class_mode='categorical')"
   ]
  },
  {
   "cell_type": "code",
   "execution_count": 15,
   "metadata": {},
   "outputs": [],
   "source": [
    "img_dims = 150\n",
    "epochs = 7\n",
    "batch_size = 32"
   ]
  },
  {
   "cell_type": "code",
   "execution_count": 16,
   "metadata": {},
   "outputs": [
    {
     "name": "stdout",
     "output_type": "stream",
     "text": [
      "WARNING:tensorflow:From <ipython-input-16-12563e1c4f40>:5: Model.fit_generator (from tensorflow.python.keras.engine.training) is deprecated and will be removed in a future version.\n",
      "Instructions for updating:\n",
      "Please use Model.fit, which supports generators.\n",
      "WARNING:tensorflow:sample_weight modes were coerced from\n",
      "  ...\n",
      "    to  \n",
      "  ['...']\n",
      "WARNING:tensorflow:sample_weight modes were coerced from\n",
      "  ...\n",
      "    to  \n",
      "  ['...']\n",
      "Train for 45 steps, validate for 40 steps\n",
      "Epoch 1/7\n",
      "45/45 [==============================] - 177s 4s/step - loss: 1.1341 - accuracy: 0.4230 - AUC: 0.6769 - Precision: 0.6143 - Recall: 0.1766 - TruePositives: 250.0000 - TrueNegatives: 2675.0000 - FalsePositives: 157.0000 - FalseNegatives: 1166.0000 - val_loss: 0.4995 - val_accuracy: 0.8195 - val_AUC: 0.9614 - val_Precision: 0.8843 - val_Recall: 0.7523 - val_TruePositives: 963.0000 - val_TrueNegatives: 2434.0000 - val_FalsePositives: 126.0000 - val_FalseNegatives: 317.0000\n",
      "Epoch 2/7\n",
      "45/45 [==============================] - 170s 4s/step - loss: 0.7680 - accuracy: 0.6871 - AUC: 0.8441 - Precision: 0.7458 - Recall: 0.4972 - TruePositives: 704.0000 - TrueNegatives: 2592.0000 - FalsePositives: 240.0000 - FalseNegatives: 712.0000 - val_loss: 0.4907 - val_accuracy: 0.8062 - val_AUC: 0.9325 - val_Precision: 0.8206 - val_Recall: 0.7859 - val_TruePositives: 1006.0000 - val_TrueNegatives: 2340.0000 - val_FalsePositives: 220.0000 - val_FalseNegatives: 274.0000\n",
      "Epoch 3/7\n",
      "45/45 [==============================] - 173s 4s/step - loss: 0.5981 - accuracy: 0.7698 - AUC: 0.9044 - Precision: 0.8046 - Recall: 0.7154 - TruePositives: 1013.0000 - TrueNegatives: 2586.0000 - FalsePositives: 246.0000 - FalseNegatives: 403.0000 - val_loss: 0.2230 - val_accuracy: 0.9133 - val_AUC: 0.9853 - val_Precision: 0.9244 - val_Recall: 0.9070 - val_TruePositives: 1161.0000 - val_TrueNegatives: 2465.0000 - val_FalsePositives: 95.0000 - val_FalseNegatives: 119.0000\n",
      "Epoch 4/7\n",
      "45/45 [==============================] - 169s 4s/step - loss: 0.4136 - accuracy: 0.8468 - AUC: 0.9516 - Precision: 0.8567 - Recall: 0.8234 - TruePositives: 1166.0000 - TrueNegatives: 2637.0000 - FalsePositives: 195.0000 - FalseNegatives: 250.0000 - val_loss: 0.3241 - val_accuracy: 0.8727 - val_AUC: 0.9703 - val_Precision: 0.8837 - val_Recall: 0.8609 - val_TruePositives: 1102.0000 - val_TrueNegatives: 2415.0000 - val_FalsePositives: 145.0000 - val_FalseNegatives: 178.0000\n",
      "Epoch 5/7\n",
      "45/45 [==============================] - 169s 4s/step - loss: 0.3928 - accuracy: 0.8559 - AUC: 0.9575 - Precision: 0.8648 - Recall: 0.8446 - TruePositives: 1196.0000 - TrueNegatives: 2645.0000 - FalsePositives: 187.0000 - FalseNegatives: 220.0000 - val_loss: 0.2410 - val_accuracy: 0.9242 - val_AUC: 0.9845 - val_Precision: 0.9317 - val_Recall: 0.9164 - val_TruePositives: 1173.0000 - val_TrueNegatives: 2474.0000 - val_FalsePositives: 86.0000 - val_FalseNegatives: 107.0000\n",
      "Epoch 6/7\n",
      "45/45 [==============================] - 171s 4s/step - loss: 0.3256 - accuracy: 0.8743 - AUC: 0.9697 - Precision: 0.8814 - Recall: 0.8658 - TruePositives: 1226.0000 - TrueNegatives: 2667.0000 - FalsePositives: 165.0000 - FalseNegatives: 190.0000 - val_loss: 0.4472 - val_accuracy: 0.8094 - val_AUC: 0.9433 - val_Precision: 0.8171 - val_Recall: 0.8062 - val_TruePositives: 1032.0000 - val_TrueNegatives: 2329.0000 - val_FalsePositives: 231.0000 - val_FalseNegatives: 248.0000\n",
      "Epoch 7/7\n",
      "45/45 [==============================] - 172s 4s/step - loss: 0.2988 - accuracy: 0.8863 - AUC: 0.9757 - Precision: 0.8978 - Recall: 0.8814 - TruePositives: 1248.0000 - TrueNegatives: 2690.0000 - FalsePositives: 142.0000 - FalseNegatives: 168.0000 - val_loss: 0.2075 - val_accuracy: 0.9234 - val_AUC: 0.9874 - val_Precision: 0.9282 - val_Recall: 0.9195 - val_TruePositives: 1177.0000 - val_TrueNegatives: 2469.0000 - val_FalsePositives: 91.0000 - val_FalseNegatives: 103.0000\n"
     ]
    }
   ],
   "source": [
    "#### Fitting the model\n",
    "history = model.fit_generator(\n",
    "           training_set,steps_per_epoch=training_set.samples // batch_size, \n",
    "           epochs=epochs, \n",
    "           validation_data=test_set,validation_steps=test_set.samples // batch_size)"
   ]
  },
  {
   "cell_type": "code",
   "execution_count": 17,
   "metadata": {},
   "outputs": [],
   "source": [
    "def graph():\n",
    "    #Plot training & validation accuracy values\n",
    "    plt.plot(history.history['accuracy'])\n",
    "    plt.plot(history.history['val_accuracy'])\n",
    "    plt.title('Model accuracy')\n",
    "    plt.ylabel('Accuracy')\n",
    "    plt.xlabel('Epoch')\n",
    "    plt.legend(['Train', 'Test'], loc='upper left')\n",
    "    plt.show()\n",
    "\n",
    "    # Plot training & validation loss values\n",
    "    plt.plot(history.history['loss'])\n",
    "    plt.plot(history.history['val_loss'])\n",
    "    plt.title('Model loss')\n",
    "    plt.ylabel('Loss')\n",
    "    plt.xlabel('Epoch')\n",
    "    plt.legend(['Train', 'Test'], loc='upper left')\n",
    "    plt.show()"
   ]
  },
  {
   "cell_type": "code",
   "execution_count": 18,
   "metadata": {},
   "outputs": [
    {
     "data": {
      "image/png": "[encoded data removed]",
      "text/plain": [
       "<Figure size 432x288 with 1 Axes>"
      ]
     },
     "metadata": {
      "needs_background": "light"
     },
     "output_type": "display_data"
    },
    {
     "data": {
      "image/png": "[encoded data removed]",
      "text/plain": [
       "<Figure size 432x288 with 1 Axes>"
      ]
     },
     "metadata": {
      "needs_background": "light"
     },
     "output_type": "display_data"
    }
   ],
   "source": [
    "graph()"
   ]
  },
  {
   "cell_type": "code",
   "execution_count": 19,
   "metadata": {},
   "outputs": [
    {
     "name": "stdout",
     "output_type": "stream",
     "text": [
      "[INFO] Calculating model accuracy\n",
      "WARNING:tensorflow:sample_weight modes were coerced from\n",
      "  ...\n",
      "    to  \n",
      "  ['...']\n",
      "41/41 [==============================] - 56s 1s/step - loss: 0.2064 - accuracy: 0.9239 - AUC: 0.9875 - Precision: 0.9287 - Recall: 0.9200 - TruePositives: 1185.0000 - TrueNegatives: 2485.0000 - FalsePositives: 91.0000 - FalseNegatives: 103.0000\n"
     ]
    }
   ],
   "source": [
    "print(\"[INFO] Calculating model accuracy\")\n",
    "scores = model.evaluate(test_set)"
   ]
  },
  {
   "cell_type": "code",
   "execution_count": 20,
   "metadata": {},
   "outputs": [],
   "source": [
    "precision=scores[3]\n",
    "recall=scores[3]\n",
    "true_positives=scores[5]\n",
    "true_negatives=scores[6]\n",
    "false_positives=scores[7]\n",
    "false_negatives=scores[8]"
   ]
  },
  {
   "cell_type": "code",
   "execution_count": 21,
   "metadata": {},
   "outputs": [],
   "source": [
    "confution_matrix=[[true_positives,false_positives],[false_negatives,true_negatives]]"
   ]
  },
  {
   "cell_type": "markdown",
   "metadata": {},
   "source": [
    "<img src='f1.png' >"
   ]
  },
  {
   "cell_type": "code",
   "execution_count": 22,
   "metadata": {},
   "outputs": [
    {
     "name": "stdout",
     "output_type": "stream",
     "text": [
      "Accuracy                     : 92.3913061618805\n",
      "\n",
      "Confution Matrix             :  [[1185.0, 91.0], [103.0, 2485.0]]\n",
      "\n",
      "precision Score              :  0.9286834\n",
      "\n",
      "Recall or Sensitivity Score  :  0.9286834\n",
      "\n",
      "F1 Score                     :  0.9286834001541138\n",
      "\n",
      "Specifisity Score            :  92.0\n"
     ]
    }
   ],
   "source": [
    "print(f\"Accuracy                     : {scores[1]*100}\")\n",
    "print(\"\")\n",
    "print(\"Confution Matrix             : \",confution_matrix)\n",
    "print(\"\")\n",
    "print(\"precision Score              : \",precision)\n",
    "print(\"\")\n",
    "print(\"Recall or Sensitivity Score  : \",recall)\n",
    "print(\"\")\n",
    "f1=(precision*recall)/(precision+recall)\n",
    "F1_Score=2*f1\n",
    "print(\"F1 Score                     : \",F1_Score)\n",
    "print(\"\")\n",
    "Specifisity=true_negatives/true_negatives+false_positives\n",
    "print(\"Specifisity Score            : \",Specifisity)"
   ]
  },
  {
   "cell_type": "markdown",
   "metadata": {},
   "source": [
    " "
   ]
  }
 ],
 "metadata": {
  "kernelspec": {
   "display_name": "Python 3",
   "language": "python",
   "name": "python3"
  },
  "language_info": {
   "codemirror_mode": {
    "name": "ipython",
    "version": 3
   },
   "file_extension": ".py",
   "mimetype": "text/x-python",
   "name": "python",
   "nbconvert_exporter": "python",
   "pygments_lexer": "ipython3",
   "version": "3.7.4"
  }
 },
 "nbformat": 4,
 "nbformat_minor": 2
}
